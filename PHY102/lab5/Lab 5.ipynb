{
 "metadata": {
  "name": "",
  "signature": "sha256:6419b6a7303a70d1669de07431711bc73291990b6b34399956cc6d62aa015577"
 },
 "nbformat": 3,
 "nbformat_minor": 0,
 "worksheets": [
  {
   "cells": [
    {
     "cell_type": "markdown",
     "metadata": {},
     "source": [
      "<h1>He Bai Lab 5: Statistics, Curve-fitting, Proabaility Distributions</h1>\n",
      "<h2>Physics 102 - Fall 2014</h2>\n",
      "\n",
      "<h4>Learning Objectives:</h4>\n",
      "At the end of this lab, you will be able to:\n",
      "<ul>\n",
      "    <li>Calculate the mean, median, mode, variance, standard deviation, range, variance, skewness and, kurtosis of a sample using Python.</li>\n",
      "    <li>Explain how minimizing residuals is used in curve-fitting.</li>\n",
      "    <li>Use built-in Python routines for curve-fitting.</li>\n",
      "    <li>Create a probability distribution from a set of data.</li>\n",
      "</ul> "
     ]
    },
    {
     "cell_type": "markdown",
     "metadata": {},
     "source": [
      "<h3>Statistics</h3>"
     ]
    },
    {
     "cell_type": "markdown",
     "metadata": {},
     "source": [
      "Statistics is a set of concepts, rules, and procedures that help us to organized numerical information, analyze numerical information, and make informed decisions."
     ]
    },
    {
     "cell_type": "code",
     "collapsed": false,
     "input": [
      "import numpy as np\n",
      "import matplotlib.pyplot as plt\n",
      "\n",
      "data = np.array([4.48, 4.34, 4.51, 7.14, 5.02, 3.68, 2.65, 6.47, 4.34, 6.00,\n",
      "        3.76, 3.62, 5.44, 7.54, 3.81, 5.21, 4.49, 4.06, 6.19])"
     ],
     "language": "python",
     "metadata": {},
     "outputs": []
    },
    {
     "cell_type": "markdown",
     "metadata": {},
     "source": [
      "<h4>Measures of Center</h4>"
     ]
    },
    {
     "cell_type": "markdown",
     "metadata": {},
     "source": [
      "There are three common statistical measures of center: mean, median and mode. Numpy contains built-in functions for computing the mean, and median. The typical symbol used for the mean is $\\mu$."
     ]
    },
    {
     "cell_type": "code",
     "collapsed": false,
     "input": [
      "print np.mean(data) # Mean\n",
      "\n",
      "print np.median(data) # Median"
     ],
     "language": "python",
     "metadata": {},
     "outputs": []
    },
    {
     "cell_type": "markdown",
     "metadata": {},
     "source": [
      "To get the mode we need to import the stats library. The stats library contains several other statistical tools that we will use in this lab. See  for the complete description of the stats package see the <a href='http://docs.scipy.org/doc/scipy-0.14.0/reference/stats.html'>documentation</a>. Mode returns a tuple containing the mode along with the number of occurances."
     ]
    },
    {
     "cell_type": "code",
     "collapsed": false,
     "input": [
      "from scipy import stats\n",
      "\n",
      "print stats.mode(data) # Mode"
     ],
     "language": "python",
     "metadata": {},
     "outputs": []
    },
    {
     "cell_type": "markdown",
     "metadata": {},
     "source": [
      "<h4>Measures of Spread</h4>"
     ]
    },
    {
     "cell_type": "markdown",
     "metadata": {},
     "source": [
      "Once we know the center we might want to know how far the data spreads from the center. Common measures of spread are range, variance, and standard deviation."
     ]
    },
    {
     "cell_type": "markdown",
     "metadata": {},
     "source": [
      "The range is just the difference between the maximum and the minimum"
     ]
    },
    {
     "cell_type": "code",
     "collapsed": false,
     "input": [
      "data_range = data.max() - data.min()\n",
      "\n",
      "print data_range"
     ],
     "language": "python",
     "metadata": {},
     "outputs": []
    },
    {
     "cell_type": "markdown",
     "metadata": {},
     "source": [
      "The variance is defined by\n",
      "\n",
      "$$ \\frac{1}{n}\\sum_{i=1}^n (x_i-\\mu)^2$$\n",
      "\n",
      "Where $n$ is the number of data points $x_i$, and $\\mu$ is the mean of the data set."
     ]
    },
    {
     "cell_type": "code",
     "collapsed": false,
     "input": [
      "np.var(data) # Variance"
     ],
     "language": "python",
     "metadata": {},
     "outputs": []
    },
    {
     "cell_type": "markdown",
     "metadata": {},
     "source": [
      "The standard deviation is the square root of the variance\n",
      "\n",
      "$$\\sigma = \\sqrt{ \\frac{1}{n}\\sum_{i=1}^n (x_i-\\mu)^2 }$$\n",
      "\n",
      "The typical symbol used for standard deviation is $\\sigma$."
     ]
    },
    {
     "cell_type": "code",
     "collapsed": false,
     "input": [
      "print np.std(data) # Standard deviation\n",
      "\n",
      "print np.sqrt(np.var(data)) # Square-root of the variance"
     ],
     "language": "python",
     "metadata": {},
     "outputs": []
    },
    {
     "cell_type": "markdown",
     "metadata": {},
     "source": [
      "<h4>Measures of Shape</h4>"
     ]
    },
    {
     "cell_type": "markdown",
     "metadata": {},
     "source": [
      "The formula for variance suggests the possibility of different statistical measures of the form:\n",
      "\n",
      "$$ \\frac{1}{n}\\sum_{i=1}^n (x_i-\\mu)^M$$"
     ]
    },
    {
     "cell_type": "markdown",
     "metadata": {},
     "source": [
      "These are called the central moments and Python has methods for calculating the central moments."
     ]
    },
    {
     "cell_type": "code",
     "collapsed": false,
     "input": [
      "print stats.moment(data, 2) # Second moment\n",
      "\n",
      "print stats.moment(data, 3) # Third moment\n",
      "\n",
      "print stats.moment(data, 4) # Fourth moment"
     ],
     "language": "python",
     "metadata": {},
     "outputs": []
    },
    {
     "cell_type": "markdown",
     "metadata": {},
     "source": [
      "These moments describe the data and the shape of the data distribution. In order to compare the shape of different data sets, the central moments are typically divided by the standard deviation to the same power as the moment.\n",
      "\n",
      "$$ \\dfrac{\\frac{1}{n}\\sum_{i=1}^n (x_i-\\mu)^M}{\\sigma^M} $$\n",
      "\n",
      "Note: The normalized moments measured this way are unitless and can be compared across data sets."
     ]
    },
    {
     "cell_type": "code",
     "collapsed": false,
     "input": [
      "print stats.moment(data, 2)/np.std(data)**2 # Second normalized moment\n",
      "\n",
      "print stats.moment(data, 3)/np.std(data)**3 # Third normalized moment\n",
      "\n",
      "print stats.moment(data, 4)/np.std(data)**4 # Fourth normalized moment"
     ],
     "language": "python",
     "metadata": {},
     "outputs": []
    },
    {
     "cell_type": "markdown",
     "metadata": {},
     "source": [
      "The normalized third and fourth moments are named. The normalized third moment is called the skewness and gives a measure of how symmetrical a data set is."
     ]
    },
    {
     "cell_type": "code",
     "collapsed": false,
     "input": [
      "print stats.moment(data, 3)/np.std(data)**3 # Third normalized moment\n",
      "\n",
      "print stats.skew(data) # Skewness"
     ],
     "language": "python",
     "metadata": {},
     "outputs": []
    },
    {
     "cell_type": "markdown",
     "metadata": {},
     "source": [
      "The normalized forth moment is called the kurtosis. Typically this is given as the excess kurtosis where 3 is the kurtosis of a gaussian/normal distribution. The kurtosis gives a measure of how pointed a distribution is."
     ]
    },
    {
     "cell_type": "code",
     "collapsed": false,
     "input": [
      "print stats.moment(data, 4)/np.std(data)**4 - 3 # Third normalized moment minus 3\n",
      "\n",
      "print stats.kurtosis(data) # Skewness"
     ],
     "language": "python",
     "metadata": {},
     "outputs": []
    },
    {
     "cell_type": "markdown",
     "metadata": {},
     "source": [
      "These measures provide simple descriptions of a data set and can be used to compare different sets of data."
     ]
    },
    {
     "cell_type": "markdown",
     "metadata": {},
     "source": [
      "<h3>Curve-fitting</h3>"
     ]
    },
    {
     "cell_type": "markdown",
     "metadata": {},
     "source": [
      "One of the major goals of phyiscs is finding mathematical representations of physical phenomenon. This means we want to find functions that describe the physical world. Typically these functions involve parmeters that represent physical quanties. Take for example the force exerted by a spring. We can use a simple linear spring model.\n",
      "\n",
      "$$ F = -k x $$\n",
      "\n",
      "The force $F$ and the displacement $x$ are things that we can measure. The model gives a relationship between $F$ and $x$ and relates them using the spring constant $k$. If we measure a set of $(x, F)$ data we can use curve fitting to determine the best value the use for $k$."
     ]
    },
    {
     "cell_type": "code",
     "collapsed": false,
     "input": [
      "%matplotlib inline\n",
      "\n",
      "data_x = np.array([1.0, 2.0, 3.0, 4.0, 5.0, 6.0])\n",
      "data_y = np.array([3.03, 5.93,   9.00,  11.98,  14.93, 18.03117516])\n",
      "\n",
      "y_1 = 1*data_x\n",
      "y_2 = 2*data_x\n",
      "y_3 = 3*data_x\n",
      "y_4 = 4*data_x\n",
      "\n",
      "plt.plot(data_x, data_y, marker='*', lw=0, label='data')\n",
      "plt.plot(data_x, y_1, label='k=1')\n",
      "plt.plot(data_x, y_2, label='k=2')\n",
      "plt.plot(data_x, y_3, label='k=3')\n",
      "plt.plot(data_x, y_4, label='k=4')\n",
      "plt.legend(loc=2)"
     ],
     "language": "python",
     "metadata": {},
     "outputs": []
    },
    {
     "cell_type": "markdown",
     "metadata": {},
     "source": [
      "Rather than plotting a bunch of curves and guessing which one fits the data the best, we need a way to objectively determine which curve is the best. This is what curve-fitting does for us, it gives us an objective method for determining which parameter values we should use in the model."
     ]
    },
    {
     "cell_type": "markdown",
     "metadata": {},
     "source": [
      "This is where the idea of distance discussed in Lab 1 comes in to play. Once a suitable distance is chosen, the curve that is closest to the data is the best-fit curves and gives the parameters that best describe the data. Stated this way, curve-fitting is simply a minimization problem, mimimizing the distance between a function and a set of data."
     ]
    },
    {
     "cell_type": "markdown",
     "metadata": {},
     "source": [
      "A typical distance is the sum of the square of the residuals\n",
      "\n",
      "$$ d = \\sum_i \\left(y_i - f\\left(x_i\\right)\\right)^2$$"
     ]
    },
    {
     "cell_type": "markdown",
     "metadata": {},
     "source": [
      "In the example shown, we can think of our function as having the parameter $k$ as a variable\n",
      "\n",
      "$$f(x, k) = -k,x $$\n",
      "\n",
      "And the distance becomes a function of $k$ only.\n",
      "\n",
      "$$ d(k) = \\sum_i \\left(y_i - f\\left(x_i, k\\right)\\right)^2$$\n",
      "\n",
      "We can minimize the distance by taking a derivative, setting the derivative equal to zero, and solving for the value of $k$ that minimizes the distance.\n",
      "\n",
      "$$\\frac{\\partial d(k)}{\\partial k} = 0$$"
     ]
    },
    {
     "cell_type": "markdown",
     "metadata": {},
     "source": [
      "In the example used above this becomes\n",
      "\n",
      "$$ \\frac{\\partial d(k)}{\\partial k} = \\sum_i 2\\left(y_i + k x_i\\right)x_i = 0$$ "
     ]
    },
    {
     "cell_type": "markdown",
     "metadata": {},
     "source": [
      "If the model has multiple parameters, the best fit can be obtained by minimizing the partial derivatives with respect to each parameter\n",
      "\n",
      "$$\\frac{\\partial d(\\alpha, \\beta, \\gamma)}{\\partial \\alpha} = 0$$\n",
      "\n",
      "$$\\frac{\\partial d(\\alpha, \\beta, \\gamma)}{\\partial \\beta} = 0$$\n",
      "\n",
      "$$\\frac{\\partial d(\\alpha, \\beta, \\gamma)}{\\partial \\gamma} = 0$$"
     ]
    },
    {
     "cell_type": "markdown",
     "metadata": {},
     "source": [
      "There are many techniques for finding the minimium distance numerically. Rather than spending two labs on minimization methods, it is enough for you to understand in a very abstract sense what is going on when you use methods and functions in Python. "
     ]
    },
    {
     "cell_type": "markdown",
     "metadata": {},
     "source": [
      "<h4>Linear Fit</h4>"
     ]
    },
    {
     "cell_type": "markdown",
     "metadata": {},
     "source": [
      "For a simple linear fit $y = m x + b$, we can use the linear regression routine in the stats package."
     ]
    },
    {
     "cell_type": "code",
     "collapsed": false,
     "input": [
      "data_x = np.array([1.0, 2.0, 3.0, 4.0, 5.0, 6.0])\n",
      "data_y = np.array([3.03, 5.93,   9.00,  11.98,  14.93, 18.03117516])\n",
      "\n",
      "slope, intercept, r_value, p_value, std_err = stats.linregress(data_x, data_y)\n",
      "\n",
      "print 'The best-fit slope is: {0}'.format(slope)\n",
      "print 'The best-fit intercept is: {0}'.format(intercept)\n",
      "print 'The R value is: {0}'.format(r_value)\n",
      "print 'The P value intercept is: {0}'.format(p_value)\n",
      "print 'The best-fit slope with error is: {0} plus/minus {1}'.format(slope, std_err)"
     ],
     "language": "python",
     "metadata": {},
     "outputs": []
    },
    {
     "cell_type": "markdown",
     "metadata": {},
     "source": [
      "The R value gives a measure of how linear the data is. The P value gives a measure of how good the fit is, the smaller the value the better the fit. The standard error currently gives the error on the slope (note that this is different than the typical standard error)."
     ]
    },
    {
     "cell_type": "markdown",
     "metadata": {},
     "source": [
      "<h4>Other Functions</h4>"
     ]
    },
    {
     "cell_type": "markdown",
     "metadata": {},
     "source": [
      "The SciPy package has a module that can be used to fit any curve."
     ]
    },
    {
     "cell_type": "code",
     "collapsed": false,
     "input": [
      "from scipy.optimize import curve_fit\n",
      "\n",
      "def func(x, a, b, c):\n",
      "    return a * np.exp(-b * x) + c\n",
      "\n",
      "xdata = np.linspace(0, 4, 50)\n",
      "y = func(xdata, 2.5, 1.3, 0.5)\n",
      "ydata = y + 0.2 * np.random.normal(size=len(xdata))\n",
      "\n",
      "popt, pcov = curve_fit(func, xdata, ydata)\n",
      "\n",
      "print popt"
     ],
     "language": "python",
     "metadata": {},
     "outputs": []
    },
    {
     "cell_type": "markdown",
     "metadata": {},
     "source": [
      "For a complete description see http://docs.scipy.org/doc/scipy-0.14.0/reference/generated/scipy.optimize.curve_fit.html."
     ]
    },
    {
     "cell_type": "code",
     "collapsed": false,
     "input": [
      "import numpy as np\n",
      "from scipy.optimize import curve_fit\n",
      "def func(x, a, b, c):\n",
      "    return a * np.exp(-b * x) + c\n",
      "\n",
      "xdata = np.linspace(0, 4, 50)\n",
      "y = func(xdata, 2.5, 1.3, 0.5)\n",
      "ydata = y + 0.2 * np.random.normal(size=len(xdata))\n",
      "\n",
      "popt, pcov = curve_fit(func, xdata, ydata)\n",
      "\n",
      "print popt\n",
      "\n",
      "y_fit = func(xdata, *popt) # The *popt passes the arguments to func\n",
      "\n",
      "plt.plot(xdata, ydata, marker='*', lw=0, label='Data')\n",
      "plt.plot(xdata, y_fit, label='Fit')\n",
      "plt.legend(loc=1)"
     ],
     "language": "python",
     "metadata": {},
     "outputs": []
    },
    {
     "cell_type": "markdown",
     "metadata": {},
     "source": [
      "This is really a really powerful module and allows you to fit nearly any curve to nearly any set of data."
     ]
    },
    {
     "cell_type": "code",
     "collapsed": false,
     "input": [
      "def square(x, A):\n",
      "    return A*x**2\n",
      "\n",
      "xdata = np.linspace(0, 4, 50)\n",
      "y = square(xdata, 1.3)\n",
      "ydata = y + 0.2 * np.random.normal(size=len(xdata))\n",
      "\n",
      "popt, pcov = curve_fit(square, xdata, ydata)\n",
      "\n",
      "y_fit = square(xdata, *popt) # The *popt passes the arguments to func\n",
      "\n",
      "plt.plot(xdata, ydata, marker='*', lw=0, label='Data')\n",
      "plt.plot(xdata, y_fit, label='Fit')\n",
      "plt.legend(loc=2)"
     ],
     "language": "python",
     "metadata": {},
     "outputs": []
    },
    {
     "cell_type": "markdown",
     "metadata": {},
     "source": [
      "<h3>Histograms and Probability Distributions</h3> "
     ]
    },
    {
     "cell_type": "markdown",
     "metadata": {},
     "source": [
      "There are some physical quantities, like the size of earthquakes, for which individual events do not fall on nice functions, but if we look at a collection of events, there are patterns. We can ask questions of how many magnitude 5 earthquakes occur and how do the number of earthquakes with magnitude 5 compare to the number of earthquakes with magnitude 4. This is where statistics becomes really powerful, when systems no longer appear to be deterministic but behaves probabilistically. The simplest question you can ask about a probabalistic system is how many times a certain event happens. How many people have birthdays in December? How many fish are at least 12 inches long? To visualize this type of information we use histograms."
     ]
    },
    {
     "cell_type": "markdown",
     "metadata": {},
     "source": [
      "Histograms are visualizations of a distribution of a ster of data. Distributions are just what we described, how many with a certain property. For more information on histograms, see <a href=\"http://en.wikipedia.org/wiki/Histogram\">Wikipedia</a>. Numpy makes it easy to make histograms out of numerical data. First we need to get some data. For this example we will use all the earthquakes in the world during the past year with a magnitude 4.0 or grater."
     ]
    },
    {
     "cell_type": "code",
     "collapsed": false,
     "input": [
      "import datetime\n",
      "\n",
      "raw_data = np.genfromtxt('earthquake_data.txt', dtype={'names': ('DateTime', 'Latititue', 'Longitude', 'Depth', 'Magnitude' ),'formats': (datetime.datetime, float, float, float, float)}, delimiter=',', skiprows=1, usecols=(4,))"
     ],
     "language": "python",
     "metadata": {},
     "outputs": []
    },
    {
     "cell_type": "markdown",
     "metadata": {},
     "source": [
      "Once we have the data, we ask numpy to create a histogram of the data with 8 bins. Numpy looks and the max and the min of the data and creates 8 equally spaced bins. The histogram function returns a tuple containing the counts in each bin along with the bin edges."
     ]
    },
    {
     "cell_type": "code",
     "collapsed": false,
     "input": [
      "counts, bin_edges = np.histogram(raw_data['Magnitude'], bins=8)"
     ],
     "language": "python",
     "metadata": {},
     "outputs": []
    },
    {
     "cell_type": "markdown",
     "metadata": {},
     "source": [
      "The counts and bin edges is a classic case of the <a href=\"http://en.wikipedia.org/wiki/Off-by-one_error\">fence post problem</a>. To create a fence with n panels you need n+1 posts. To get n bins, we need n+1 bin edges. In order to plot the data, we need to create an array containing the bin centers."
     ]
    },
    {
     "cell_type": "code",
     "collapsed": false,
     "input": [
      "# Take all bin edges except the last one, and add half the distance between the first two edges\n",
      "\n",
      "bin_centers = bin_edges[:-1]+(bin_edges[1]-bin_edges[0])/2.0"
     ],
     "language": "python",
     "metadata": {},
     "outputs": []
    },
    {
     "cell_type": "markdown",
     "metadata": {},
     "source": [
      "We can plot the counts as bars like a typical histogram."
     ]
    },
    {
     "cell_type": "code",
     "collapsed": false,
     "input": [
      "plt.bar(bin_centers, counts, color='cyan')\n",
      "plt.xlabel('Magnitude')\n",
      "plt.ylabel('Counts')"
     ],
     "language": "python",
     "metadata": {},
     "outputs": []
    },
    {
     "cell_type": "markdown",
     "metadata": {},
     "source": [
      "Or we can just plot it as a line."
     ]
    },
    {
     "cell_type": "code",
     "collapsed": false,
     "input": [
      "plt.plot(bin_centers, counts)\n",
      "plt.xlabel('Magnitude')\n",
      "plt.ylabel('Counts')\n",
      "plt.xscale('log')\n",
      "plt.yscale('log')\n",
      "plt.xlim((5,9))"
     ],
     "language": "python",
     "metadata": {},
     "outputs": []
    },
    {
     "cell_type": "markdown",
     "metadata": {},
     "source": [
      "If we want to use specific bin edges we can specify them as a list."
     ]
    },
    {
     "cell_type": "code",
     "collapsed": false,
     "input": [
      "bin_edges = [5.0, 6.0, 7.0, 8.0, 9.0, 10.0]\n",
      "\n",
      "counts, bin_edges = np.histogram(raw_data['Magnitude'], bins=bin_edges)\n",
      "\n",
      "bin_centers = bin_edges[:-1]+(bin_edges[1]-bin_edges[0])/2.0\n",
      "\n",
      "plt.plot(bin_centers, counts)\n",
      "plt.xlabel('Magnitude')\n",
      "plt.ylabel('Counts')\n",
      "plt.xscale('log')\n",
      "plt.yscale('log')\n",
      "plt.xlim((5,10))\n",
      "plt.ylim((0.1, 10000))"
     ],
     "language": "python",
     "metadata": {},
     "outputs": []
    },
    {
     "cell_type": "markdown",
     "metadata": {},
     "source": [
      "<h4>Probability Density</h4>"
     ]
    },
    {
     "cell_type": "markdown",
     "metadata": {},
     "source": [
      "While histograms are very helpful, we are often more concerned about the shape of the histogram than we are with the actual counts. We often want to compare two different histograms where the number of data points in each historgram is different. In order to do this, we typically convert histograms into probability densities. The difference between a histogram and a probability densisty is that when we sum over a histogram, we get the total number of events. When we sum over a probability density, we get one. In this regard the probability density is a normalized histogram. To get a probability density, we just add the keyword argument <code>density=True</code> to the historgram function."
     ]
    },
    {
     "cell_type": "code",
     "collapsed": false,
     "input": [
      "bin_edges = [5.0, 6.0, 7.0, 8.0, 9.0, 10.0]\n",
      "\n",
      "counts, bin_edges = np.histogram(raw_data['Magnitude'], bins=bin_edges, density=True)\n",
      "\n",
      "bin_centers = bin_edges[:-1]+(bin_edges[1]-bin_edges[0])/2.0\n",
      "\n",
      "plt.plot(bin_centers, counts)\n",
      "plt.xlabel('Magnitude')\n",
      "plt.ylabel('Counts')\n",
      "plt.xscale('log')\n",
      "plt.yscale('log')\n",
      "plt.xlim((5,10))\n",
      "plt.ylim((0.0001, 10))"
     ],
     "language": "python",
     "metadata": {},
     "outputs": []
    },
    {
     "cell_type": "markdown",
     "metadata": {},
     "source": [
      "We typically think of the probability density as a probability distribution $P\\left(x\\right)$ which we can integrate over.\n",
      "\n",
      "$$ 1 = \\int P\\left(x\\right) \\mathrm{d} x $$\n",
      "\n",
      "We can convert the integral to a sum in the discrete case.\n",
      "\n",
      "$$ 1 = \\sum_i P_i \\Delta x $$\n",
      "\n",
      "Where $P_i$ is the $i$th probability densisty and $\\Delta x$ is the bin width."
     ]
    },
    {
     "cell_type": "code",
     "collapsed": false,
     "input": [
      "bin_width = (bin_edges[1]-bin_edges[0])\n",
      "\n",
      "(counts*bin_width).sum()"
     ],
     "language": "python",
     "metadata": {},
     "outputs": []
    },
    {
     "cell_type": "markdown",
     "metadata": {},
     "source": [
      "The most commonly used probability density function is the gaussian or normal distribution.\n",
      "\n",
      "$$\\LARGE G(x, \\mu, \\sigma) = \\frac{1}{ \\sigma \\sqrt{2 \\pi}} e^{-\\frac{(x-\\mu)^2}{2 \\sigma^2}} $$"
     ]
    },
    {
     "cell_type": "markdown",
     "metadata": {},
     "source": [
      "The gaussian or normal distribution is sometimes called the bell-curve. A gaussian is defined by two properties, the mean $\\mu$ and the standard deviation $\\sigma$. In a gaussian distribution, probability is concentrated around the mean."
     ]
    },
    {
     "cell_type": "code",
     "collapsed": false,
     "input": [
      "x = np.array([0., 0.1010101, 0.2020202, 0.3030303, 0.4040404,\n",
      "   0.50505051, 0.60606061, 0.70707071, 0.80808081, 0.90909091,\n",
      "   1.01010101, 1.11111111, 1.21212121, 1.31313131, 1.41414141,\n",
      "   1.51515152, 1.61616162, 1.71717172, 1.81818182, 1.91919192,\n",
      "   2.02020202, 2.12121212, 2.22222222, 2.32323232, 2.42424242,\n",
      "   2.52525253, 2.62626263, 2.72727273, 2.82828283, 2.92929293,\n",
      "   3.03030303, 3.13131313, 3.23232323, 3.33333333, 3.43434343,\n",
      "   3.53535354, 3.63636364, 3.73737374, 3.83838384, 3.93939394,\n",
      "   4.04040404, 4.14141414, 4.24242424, 4.34343434, 4.44444444,\n",
      "   4.54545455, 4.64646465, 4.74747475, 4.84848485, 4.94949495,\n",
      "   5.05050505, 5.15151515, 5.25252525, 5.35353535, 5.45454545,\n",
      "   5.55555556, 5.65656566, 5.75757576, 5.85858586, 5.95959596,\n",
      "   6.06060606, 6.16161616, 6.26262626, 6.36363636, 6.46464646,\n",
      "   6.56565657, 6.66666667, 6.76767677, 6.86868687, 6.96969697,\n",
      "   7.07070707, 7.17171717, 7.27272727, 7.37373737, 7.47474747,\n",
      "   7.57575758, 7.67676768, 7.77777778, 7.87878788, 7.97979798,\n",
      "   8.08080808, 8.18181818, 8.28282828, 8.38383838, 8.48484848,\n",
      "   8.58585859, 8.68686869, 8.78787879, 8.88888889, 8.98989899,\n",
      "   9.09090909, 9.19191919, 9.29292929, 9.39393939, 9.49494949,\n",
      "   9.5959590, 9.6969697, 9.7979798, 9.8989899, 10.])\n",
      "\n",
      "y = np.array([1.53891973e-22,   1.13688438e-21,   8.06291600e-21,   5.48963507e-20,\n",
      "              3.58814776e-19,   2.25150411e-18,   1.35628386e-17,   7.84339244e-17,\n",
      "              4.35444492e-16,   2.32079704e-15,   1.18745463e-14,   5.83273696e-14,\n",
      "              2.75044688e-13,   1.24511549e-12,   5.41117418e-12,   2.25761018e-11,\n",
      "              9.04236094e-11,   3.47688419e-10,   1.28343570e-09,   4.54813670e-09,\n",
      "              1.54727820e-08,   5.05334336e-08,   1.58439956e-07,   4.76898681e-07,\n",
      "              1.37804384e-06,   3.82274643e-06,   1.01803664e-05,   2.60271629e-05,\n",
      "              6.38801245e-05,   1.50515138e-04,   3.40463151e-04,   7.39325267e-04,\n",
      "              1.54126206e-03,   3.08455792e-03,   5.92631697e-03,   1.09308101e-02,\n",
      "              1.93550948e-02,   3.29013530e-02,   5.36917694e-02,   8.41157223e-02,\n",
      "              1.26509210e-01,   1.82659647e-01,   2.53185358e-01,   3.36907022e-01,\n",
      "              4.30384918e-01,   5.27812335e-01,   6.21408974e-01,   7.02345833e-01,\n",
      "              7.62079015e-01,   7.93824502e-01,   7.93824502e-01,   7.62079015e-01,\n",
      "              7.02345833e-01,   6.21408974e-01,   5.27812335e-01,   4.30384918e-01,\n",
      "              3.36907022e-01,   2.53185358e-01,   1.82659647e-01,   1.26509210e-01,\n",
      "              8.41157223e-02,   5.36917694e-02,   3.29013530e-02,   1.93550948e-02,\n",
      "              1.09308101e-02,   5.92631697e-03,   3.08455792e-03,   1.54126206e-03,\n",
      "              7.39325267e-04,   3.40463151e-04,   1.50515138e-04,   6.38801245e-05,\n",
      "              2.60271629e-05,   1.01803664e-05,   3.82274643e-06,   1.37804384e-06,\n",
      "              4.76898681e-07,   1.58439956e-07,   5.05334336e-08,   1.54727820e-08,\n",
      "              4.54813670e-09,   1.28343570e-09,   3.47688419e-10,   9.04236094e-11,\n",
      "              2.25761018e-11,   5.41117418e-12,   1.24511549e-12,   2.75044688e-13,\n",
      "              5.83273696e-14,   1.18745463e-14,   2.32079704e-15,   4.35444492e-16,\n",
      "              7.84339244e-17,   1.35628386e-17,   2.25150411e-18,   3.58818734e-19,\n",
      "              5.48963507e-20,   8.06291600e-21,   1.13688438e-21,   1.53891973e-22])\n",
      "\n",
      "plt.plot(x, y)\n",
      "plt.title('Gaussian Distribution')"
     ],
     "language": "python",
     "metadata": {},
     "outputs": []
    },
    {
     "cell_type": "markdown",
     "metadata": {},
     "source": [
      "<h2>Exercies<h2>"
     ]
    },
    {
     "cell_type": "markdown",
     "metadata": {},
     "source": [
      "This week we are going to look at some statistics and do some curve-fitting with real data. One common assumption in economics is that stock returns follow a gaussian probability distribution. We want to look at whether this is a good assumption."
     ]
    },
    {
     "cell_type": "code",
     "collapsed": false,
     "input": [
      "import lab_5\n",
      "import numpy as np"
     ],
     "language": "python",
     "metadata": {},
     "outputs": [],
     "prompt_number": 9
    },
    {
     "cell_type": "markdown",
     "metadata": {},
     "source": [
      "<h3>Exercise 1</h3>"
     ]
    },
    {
     "cell_type": "markdown",
     "metadata": {},
     "source": [
      "The goal of this exercise is to write a function which will automate the statistical analysis of the daily returns for a stock. The function should take the stock ticker as a string. It should return None, but should write the calculated quantities to file."
     ]
    },
    {
     "cell_type": "markdown",
     "metadata": {},
     "source": [
      "Your function should import the stock data from yahoo stocks for the given TICKER. You may assume the given ticker is valid. Once you have the stock data, you should calculate the daily (one trading day) returns using the open prices. These daily returns are the data we want analyze. You should compute the mean, standard deviation, skew, and kurtosis of the daily returns. You should write the computed values to a file with the name \"TICKER_daily_returns_stats.txt\". The file format should be:\n",
      "\n",
      "<code>\n",
      "Statistical Properties of Daily Returns For: TICKER\n",
      "\n",
      "Mean = ????\n",
      "Median = ????\n",
      "Standard Deviation = ????\n",
      "Skewness = ????\n",
      "Kurtosis = ????\n",
      "</code>\n",
      "\n",
      "\n",
      "Where \"????\" are replaced with the values calculated in your function."
     ]
    },
    {
     "cell_type": "code",
     "collapsed": false,
     "input": [
      "ticker = \"GOOG\"\n",
      "lab_5.calc_stats(ticker)\n",
      "result = open(ticker + \"_daily_returns_stats.txt\", 'r')\n",
      "print result.read()"
     ],
     "language": "python",
     "metadata": {},
     "outputs": [
      {
       "output_type": "stream",
       "stream": "stdout",
       "text": [
        "Statistical Properties of Daily Returns For: GOOG\n",
        "Mean = -0.000102063616891 Median = 0.0 Standard Deviation = 0.0153289639455 Skewness = -0.115028846863 Kurtosis = 4.76227464383\n"
       ]
      }
     ],
     "prompt_number": 7
    },
    {
     "cell_type": "markdown",
     "metadata": {},
     "source": [
      "<h3>Exercise 2</h3>"
     ]
    },
    {
     "cell_type": "markdown",
     "metadata": {},
     "source": [
      "This is a simple exercise which you will need to complete Exercise 3. The goal of this exercise is to write a function which takes three parameters: a value $x$, a mean $\\mu$, and a standard deviation $\\sigma$ (all as floats). Your function should caluculate the probability density at the value $x$ for a gaussian with mean $\\sigma$, and standard deviation $\\mu$."
     ]
    },
    {
     "cell_type": "code",
     "collapsed": false,
     "input": [
      "x = np.arange(-1, 1, 1e-2)\n",
      "print lab_5.gaussian(x, 0, 0.1)"
     ],
     "language": "python",
     "metadata": {},
     "outputs": [
      {
       "output_type": "stream",
       "stream": "stdout",
       "text": [
        "[7.694598626706474e-22, 2.081176820202854e-21, 5.573000022720809e-21, 1.4774954927042754e-20, 3.878111931746988e-20, 1.0077935394300153e-19, 2.592864701100426e-19, 6.60457986073945e-19, 1.6655880323799407e-18, 4.15859897911519e-18, 1.0279773571669062e-17, 2.5158057769514584e-17, 6.095758129562548e-17, 1.4622963575006685e-16, 3.4729627485662574e-16, 8.166235631669666e-16, 1.9010815379080042e-15, 4.38163943550945e-15, 9.998378748497323e-15, 2.2588094031543513e-14, 5.052271083537e-14, 1.1187956214352095e-13, 2.452855285696476e-13, 5.324148372253076e-13, 1.1441564901801613e-12, 2.4343205330290617e-12, 5.12775363679679e-12, 1.0693837871541906e-11, 2.2079899631371943e-11, 4.5135436772056134e-11, 9.134720408364821e-11, 1.8303322170156169e-10, 3.630961501791878e-10, 7.131328123996253e-10, 1.3866799941653467e-09, 2.6695566147629184e-09, 5.088140281645183e-09, 9.601433370312574e-09, 1.7937839079641307e-08, 3.317884243547375e-08, 6.075882849823437e-08, 1.1015763624682583e-07, 1.9773196406245162e-07, 3.513955094820521e-07, 6.182620500165999e-07, 1.0769760042543545e-06, 1.8573618445553358e-06, 3.1713492167160544e-06, 5.361035344697756e-06, 8.972435162383544e-06, 1.4867195147343348e-05, 2.438960745893417e-05, 3.961299091032174e-05, 6.36982517886725e-05, 0.00010140852065486975, 0.00015983741106905843, 0.000249424712900542, 0.00038535196742088014, 0.0005894306775654132, 0.0008926165717713499, 0.0013383022576488833, 0.0019865547139277713, 0.0029194692579146675, 0.004247802705507612, 0.00611901930113785, 0.008726826950457787, 0.012322191684730449, 0.017225689390537164, 0.02384088201464891, 0.032668190561999856, 0.044318484119380934, 0.0595253241977597, 0.07915451582980113, 0.1042093481442279, 0.13582969233685854, 0.1752830049356884, 0.22394530294843268, 0.2832703774160164, 0.3547459284623199, 0.4398359598042786, 0.5399096651318884, 0.6561581477467751, 0.7895015830089523, 0.9404907737688812, 1.1092083467945693, 1.2951759566589323, 1.4972746563574646, 1.713685920478091, 1.941860549832148, 2.178521770325524, 2.419707245191453, 2.6608524989875684, 2.8969155276148464, 3.1225393336676306, 3.3322460289180134, 3.52065326764301, 3.682701403033246, 3.813878154605251, 3.910426939754566, 3.9695254747701214, 3.989422804014327, 3.9695254747701143, 3.9104269397545517, 3.8138781546052307, 3.68270140303322, 3.5206532676429787, 3.332246028917978, 3.122539333667592, 2.8969155276148055, 2.6608524989875253, 2.41970724519141, 2.178521770325482, 1.9418605498321067, 1.7136859204780515, 1.4972746563574277, 1.2951759566588978, 1.1092083467945377, 0.9404907737688529, 0.7895015830089268, 0.656158147746753, 0.5399096651318693, 0.43983595980426216, 0.354745928462306, 0.2832703774160048, 0.22394530294842324, 0.17528300493568064, 0.13582969233685235, 0.1042093481442229, 0.07915451582979717, 0.059525324197756635, 0.044318484119378575, 0.03266819056199805, 0.023840882014647555, 0.017225689390536154, 0.012322191684729705, 0.008726826950457244, 0.006119019301137459, 0.004247802705507329, 0.0029194692579144676, 0.0019865547139276338, 0.0013383022576487894, 0.0008926165717712849, 0.0005894306775653681, 0.00038535196742085076, 0.000249424712900522, 0.00015983741106904593, 0.00010140852065486147, 6.369825178866717e-05, 3.961299091031829e-05, 2.4389607458932094e-05, 1.4867195147342027e-05, 8.972435162382731e-06, 5.3610353446972516e-06, 3.171349216715756e-06, 1.8573618445551611e-06, 1.0769760042542511e-06, 6.182620500165385e-07, 3.5139550948201717e-07, 1.9773196406243127e-07, 1.1015763624681447e-07, 6.07588284982279e-08, 3.3178842435470105e-08, 1.7937839079639265e-08, 9.601433370311482e-09, 5.088140281644605e-09, 2.6695566147626057e-09, 1.386679994165184e-09, 7.131328123995417e-10, 3.6309615017914393e-10, 1.8303322170153959e-10, 9.134720408363685e-11, 4.5135436772050525e-11, 2.207989963136912e-11, 1.0693837871540498e-11, 5.1277536367961165e-12, 2.434320533028742e-12, 1.1441564901800069e-12, 5.324148372252338e-13, 2.452855285696136e-13, 1.1187956214350464e-13, 5.052271083536282e-14, 2.25880940315403e-14, 9.998378748495901e-15, 4.381639435508797e-15, 1.9010815379077206e-15, 8.166235631668448e-16, 3.4729627485657387e-16, 1.46229635750044e-16, 6.095758129561596e-17, 2.515805776951047e-17, 1.0279773571667454e-17, 4.15859897911454e-18, 1.6655880323796686e-18, 6.604579860738323e-19, 2.5928647010999837e-19, 1.0077935394298435e-19, 3.8781119317463545e-20, 1.4774954927040235e-20, 5.57300002271982e-21, 2.0811768202024847e-21]\n"
       ]
      }
     ],
     "prompt_number": 10
    },
    {
     "cell_type": "markdown",
     "metadata": {},
     "source": [
      "<h3>Exercise 3</h>"
     ]
    },
    {
     "cell_type": "markdown",
     "metadata": {},
     "source": [
      "The goal of this exercise is to write a function which will fit a gaussian probability distribution to the distribution of daily returns for a sock. The function should take the stock sticker as a string. It should return None, but should save a plot to file."
     ]
    },
    {
     "cell_type": "markdown",
     "metadata": {},
     "source": [
      "Your function should import the stock data from yahoo stocks for the given TICKER. You may assume the ticker is valid. Once you have the stock data, you should calculate the daily (one trading day) returns using the open prices. Rather than looking at the returns as a time series, we are going to look at the distribution of returns. You should create a histogram of the returns using \"density=True\" and 200 bins. This will give you a probability distribution for the returns."
     ]
    },
    {
     "cell_type": "markdown",
     "metadata": {},
     "source": [
      "You should fit a gaussian to your probability distribution using the bin centers as the x-data and the probability distribution as the y-data. You should obtain the best-fit values for the mean and standard deviation. Using this best-fit gaussian, your function should create a plot of both the probability distribution and the best-fit gaussian. The plot title should be the TICKER, and you should label the axes. Additionally, include a legend labeling the return data and the gaussian. Also, somewhere on the plot, you should display the best-fit mean and standard deviation to three decimal points. Your function should save the plot to \"TICKER_gaussian_fit.pdf\". An example plot will be provided."
     ]
    },
    {
     "cell_type": "code",
     "collapsed": false,
     "input": [
      "%matplotlib inline\n",
      "ticker = \"TSLA\"\n",
      "lab_5.best_fit_gaussian(ticker)"
     ],
     "language": "python",
     "metadata": {},
     "outputs": [
      {
       "metadata": {},
       "output_type": "display_data",
       "png": "[encoded data removed]",
       "text": [
        "<matplotlib.figure.Figure at 0xe50b518>"
       ]
      }
     ],
     "prompt_number": 13
    },
    {
     "cell_type": "code",
     "collapsed": false,
     "input": [],
     "language": "python",
     "metadata": {},
     "outputs": []
    }
   ],
   "metadata": {}
  }
 ]
}